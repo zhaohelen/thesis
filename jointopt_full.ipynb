{
 "cells": [
  {
   "cell_type": "code",
   "execution_count": 155,
   "id": "8321d4bd",
   "metadata": {},
   "outputs": [],
   "source": [
    "import pandas as pd\n",
    "from pandas import DataFrame\n",
    "import numpy as np\n",
    "import matplotlib.pyplot as plt\n",
    "import cvxpy as cp\n",
    "import warnings\n",
    "warnings.simplefilter(action='ignore', category=FutureWarning)\n",
    "warnings.filterwarnings(\"ignore\", category=UserWarning)"
   ]
  },
  {
   "cell_type": "markdown",
   "id": "06d813a9",
   "metadata": {},
   "source": [
    "## 1. clean and preprocess data"
   ]
  },
  {
   "cell_type": "code",
   "execution_count": 156,
   "id": "c0a78201",
   "metadata": {},
   "outputs": [],
   "source": [
    "def clean_data(df):\n",
    "    \"\"\"\n",
    "    Cleans the data by handling missing/odd values in the RET and PRC columns.\n",
    "    \n",
    "    For RET:\n",
    "      - Replaces the special missing codes (-66.0, -77.0, -88.0, -99.0) with NaN.\n",
    "    \n",
    "    For PRC:\n",
    "      - If the price is 0, it is set to NaN.\n",
    "      - If the price is negative, its absolute value is taken (the negative sign is a symbol).\n",
    "    \n",
    "    Returns a cleaned DataFrame.\n",
    "    \"\"\"\n",
    "    missing_return_codes = [-66.0, -77.0, -88.0, -99.0]\n",
    "    df[\"RET\"] = df[\"RET\"].replace(missing_return_codes, np.nan)\n",
    "    \n",
    "    def clean_price(x):\n",
    "        if x == 0:\n",
    "            return np.nan\n",
    "        else:\n",
    "            return abs(x)\n",
    "    \n",
    "    df[\"PRC\"] = df[\"PRC\"].apply(clean_price)\n",
    "    \n",
    "    # Drop rows with missing PRC or RET\n",
    "    df_clean = df.dropna(subset=[\"PRC\", \"RET\"]).copy()\n",
    "    df_clean[\"date\"] = pd.to_datetime(df_clean[\"date\"])\n",
    "    return df_clean"
   ]
  },
  {
   "cell_type": "markdown",
   "id": "4b2c0a41",
   "metadata": {},
   "source": [
    "## 2. compute covariance matrix"
   ]
  },
  {
   "cell_type": "code",
   "execution_count": 157,
   "id": "b659989e",
   "metadata": {},
   "outputs": [],
   "source": [
    "def compute_historical_covariance(df, start_date, lookback_days):\n",
    "    \"\"\"\n",
    "    Given a dataframe with columns: TICKER, date, RET,\n",
    "    filter data in the period [start_date - lookback, start_date) and \n",
    "    compute the covariance and correlation matrices of returns.\n",
    "    \"\"\"\n",
    "    lookback_start = start_date - pd.Timedelta(days=lookback_days)\n",
    "    mask = (df[\"date\"] >= lookback_start) & (df[\"date\"] < start_date)\n",
    "    df_hist = df.loc[mask]\n",
    "    \n",
    "    ret_pivot = df_hist.pivot(index=\"date\", columns=\"TICKER\", values=\"RET\")\n",
    "    cov_matrix = ret_pivot.cov().values\n",
    "    corr_matrix = ret_pivot.corr().values\n",
    "    tickers = ret_pivot.columns.tolist()\n",
    "    return cov_matrix, corr_matrix, tickers"
   ]
  },
  {
   "cell_type": "markdown",
   "id": "4540d834",
   "metadata": {},
   "source": [
    "## 3. calibrate parameters (optional)"
   ]
  },
  {
   "cell_type": "code",
   "execution_count": 158,
   "id": "f937f56d",
   "metadata": {},
   "outputs": [],
   "source": [
    "def calibrate_parameters(df, tickers, start_date, lookback_days, c_tau=50, gamma0_default=0.0, c_gamma=0.1):\n",
    "    \"\"\"\n",
    "    For each ticker, using historical data (from start_date - lookback_days to start_date),\n",
    "    estimate:\n",
    "      - τ: using a liquidity heuristic based on average volume / shares outstanding.\n",
    "      - γ: using the standard deviation of returns as a proxy for impact decay.\n",
    "    Returns vectors tau_vec, gamma0_vec, gammaT_vec corresponding to the list of tickers.\n",
    "    \"\"\"\n",
    "    tau_dict = {}\n",
    "    gamma0_dict = {}\n",
    "    gammaT_dict = {}\n",
    "    \n",
    "    lookback_start = start_date - pd.Timedelta(days=lookback_days)\n",
    "    \n",
    "    for ticker in tickers:\n",
    "        df_hist = df[(df[\"TICKER\"] == ticker) & (df[\"date\"] >= lookback_start) & (df[\"date\"] < start_date)]\n",
    "        if len(df_hist) == 0:\n",
    "            tau_dict[ticker] = 5.0  \n",
    "            gamma0_dict[ticker] = gamma0_default\n",
    "            gammaT_dict[ticker] = gamma0_default + c_gamma * 0.01\n",
    "        else:\n",
    "            avg_volume = df_hist[\"VOL\"].mean()\n",
    "            avg_shrout = df_hist[\"SHROUT\"].mean()\n",
    "            turnover = avg_volume / avg_shrout\n",
    "            tau_val = c_tau / (turnover + 1e-4)\n",
    "            tau_dict[ticker] = tau_val\n",
    "            \n",
    "            volatility = df_hist[\"RET\"].std()\n",
    "            gamma0_dict[ticker] = gamma0_default\n",
    "            gammaT_dict[ticker] = gamma0_default + c_gamma * volatility\n",
    "            \n",
    "    tau_vec = np.array([tau_dict[ticker] for ticker in tickers])\n",
    "    gamma0_vec = np.array([gamma0_dict[ticker] for ticker in tickers])\n",
    "    gammaT_vec = np.array([gammaT_dict[ticker] for ticker in tickers])\n",
    "    \n",
    "    return tau_vec, gamma0_vec, gammaT_vec"
   ]
  },
  {
   "cell_type": "markdown",
   "id": "313c4171",
   "metadata": {},
   "source": [
    "## 4. create optimization dataframe"
   ]
  },
  {
   "cell_type": "code",
   "execution_count": 159,
   "id": "712f82ab",
   "metadata": {},
   "outputs": [],
   "source": [
    "def create_optimization_dataframe_from_index(df, tickers, start_index, window_length):\n",
    "    \"\"\"\n",
    "    Given the full dataframe (with TICKER, date, PRC), pivot the price data so that\n",
    "    each column corresponds to a ticker's price (named \"PRC_<TICKER>\") and then use\n",
    "    index slicing (start_index, window_length) to select the optimization window.\n",
    "    \"\"\"\n",
    "    df_subset = df[df[\"TICKER\"].isin(tickers)].copy()\n",
    "    df_subset = df_subset.sort_values(\"date\").reset_index(drop=True)\n",
    "    \n",
    "    df_pivot = df_subset.pivot(index=\"date\", columns=\"TICKER\", values=\"PRC\")\n",
    "    df_pivot = df_pivot.sort_index().reset_index()\n",
    "    \n",
    "    df_window = df_pivot.iloc[start_index:start_index+window_length+1].copy()\n",
    "    \n",
    "    rename_dict = {ticker: f\"PRC_{ticker}\" for ticker in tickers}\n",
    "    df_window = df_window.rename(columns=rename_dict)\n",
    "    return df_window"
   ]
  },
  {
   "cell_type": "markdown",
   "id": "f030f8b0",
   "metadata": {},
   "source": [
    "## 5. multi stock optimization"
   ]
  },
  {
   "cell_type": "code",
   "execution_count": 160,
   "id": "eef635c8",
   "metadata": {},
   "outputs": [],
   "source": [
    "def multi_stock_opt_custom(df: pd.DataFrame, \n",
    "                           start_index: int,\n",
    "                           window_length: int, \n",
    "                           forecast_horizon: int, \n",
    "                           smoothing_window: int, \n",
    "                           alpha_scale: float, \n",
    "                           beta: float, \n",
    "                           tau_vec: np.ndarray,  \n",
    "                           w: float, \n",
    "                           penalty: float, \n",
    "                           Q_target: np.ndarray, \n",
    "                           Q0: np.ndarray,       \n",
    "                           J0: np.ndarray,       \n",
    "                           gamma0_vec: np.ndarray,\n",
    "                           gammaT_vec: np.ndarray, \n",
    "                           cov_matrix: np.ndarray\n",
    "                          ):\n",
    "    \"\"\"\n",
    "    Multi-stock optimization with stock-specific parameters.\n",
    "        \n",
    "    The optimization window is selected using start_index and window_length.\n",
    "    \"\"\"\n",
    "    m = cov_matrix.shape[0] \n",
    "    T = window_length\n",
    "    df_window = df.iloc[start_index:start_index+T+1].copy()\n",
    "    \n",
    "    # ----- Construct synthetic alpha signals for each stock -----\n",
    "    alphas = []\n",
    "    for j in range(m):\n",
    "        col = f\"PRC_{tickers_used[j]}\"  \n",
    "        df_window[f\"raw_alpha_{j}\"] = (df_window[col].shift(-forecast_horizon) / df_window[col] - 1)\n",
    "        df_window[f\"alpha_{j}\"] = df_window[f\"raw_alpha_{j}\"].rolling(smoothing_window, min_periods=1).mean()\n",
    "        df_window[f\"alpha_{j}\"].fillna(method=\"ffill\", inplace=True)\n",
    "        df_window[f\"alpha_{j}\"] *= alpha_scale\n",
    "        t_arr = np.arange(len(df_window))\n",
    "        df_window[f\"alpha_{j}\"] *= np.exp(-beta * t_arr)\n",
    "        alphas.append(df_window[f\"alpha_{j}\"].values[:T+1])\n",
    "    alpha = np.column_stack(alphas) \n",
    "    delta_alpha = alpha[1:,:] - alpha[:-1,:]\n",
    "    \n",
    "    # ----- Compute stock-specific γ schedules and discount factors -----\n",
    "    gamma = np.zeros((T+1, m))\n",
    "    for j in range(m):\n",
    "        gamma[:, j] = np.linspace(gamma0_vec[j], gammaT_vec[j], T+1)\n",
    "    lam = np.exp(gamma) \n",
    "    delta_gamma = gamma[1:,:] - gamma[:-1,:]\n",
    "    \n",
    "    # ----- Decision variable: Impact states J (T+1, m) -----\n",
    "    J = cp.Variable((T+1, m))\n",
    "    \n",
    "    # ----- Build the objective function -----\n",
    "    obj_terms = []\n",
    "    for k in range(T):\n",
    "        linear_term = 0\n",
    "        for j in range(m):\n",
    "            linear_term += np.exp(-gamma[k, j]) * (\n",
    "                J[k, j] * delta_alpha[k, j] + (1/tau_vec[j] + delta_gamma[k, j]) * alpha[k, j] * J[k, j]\n",
    "            )\n",
    "        d_k = np.array([np.exp(-gamma[k, j])/tau_vec[j] + 0.5 * np.exp(-gamma[k, j]) * delta_gamma[k, j] for j in range(m)])\n",
    "        D_k = np.diag(d_k)\n",
    "        quad_term = w * cp.quad_form(J[k, :], D_k @ cov_matrix @ D_k)\n",
    "        obj_terms.append(linear_term - quad_term)\n",
    "        \n",
    "    # Terminal term at time T:\n",
    "    terminal_linear = 0\n",
    "    d_T = np.zeros(m)\n",
    "    for j in range(m):\n",
    "        terminal_linear += np.exp(-gamma[T, j]) * (J[T, j] * alpha[T, j])\n",
    "        d_T[j] = np.exp(-gamma[T, j]) / tau_vec[j]\n",
    "    D_T = np.diag(d_T)\n",
    "    terminal_quad = 0.5 * w * cp.quad_form(J[T, :], D_T @ cov_matrix @ D_T)\n",
    "    terminal_term = terminal_linear - terminal_quad\n",
    "    obj_terms.append(terminal_term)\n",
    "    \n",
    "    # Deviation term:\n",
    "    Q_increments = []\n",
    "    for k in range(T):\n",
    "        increment_k = []\n",
    "        for j in range(m):\n",
    "            increment_k.append((J[k+1, j] - (1 - 1/tau_vec[j]) * J[k, j]) / lam[k, j])\n",
    "        Q_increments.append(cp.vstack(increment_k))\n",
    "    Q_T_expr = Q0 + cp.sum(cp.hstack(Q_increments), axis=1)\n",
    "    dev_term = - penalty * cp.sum_squares(Q_target - Q_T_expr)\n",
    "    \n",
    "    objective = cp.Maximize(cp.sum(obj_terms) + dev_term)\n",
    "    constraints = [J[0, :] == J0]\n",
    "    prob = cp.Problem(objective, constraints)\n",
    "    try:\n",
    "        prob.solve(solver=cp.SCS, verbose=True)\n",
    "    except Exception as e:\n",
    "        print(\"Solver failed:\", e)\n",
    "    print(\"Optimal value:\", prob.value)\n",
    "    J_opt = J.value\n",
    "\n",
    "    # ----- Recover portfolio positions Q_history -----\n",
    "    Q_history = [Q0]\n",
    "    for k in range(T):\n",
    "        delta_Q = np.zeros(m)\n",
    "        for j in range(m):\n",
    "            delta_Q[j] = (J_opt[k+1, j] - (1 - 1/tau_vec[j]) * J_opt[k, j]) / lam[k, j]\n",
    "        Q_history.append(Q_history[-1] + delta_Q)\n",
    "    Q_history = np.vstack(Q_history)\n",
    "    \n",
    "    return df_window, J_opt, Q_history, alpha, gamma, lam"
   ]
  },
  {
   "cell_type": "markdown",
   "id": "e1183caa",
   "metadata": {},
   "source": [
    "## NFLX and AMZN (highly correlated)"
   ]
  },
  {
   "cell_type": "code",
   "execution_count": 161,
   "id": "15597920",
   "metadata": {},
   "outputs": [
    {
     "data": {
      "text/html": [
       "<div>\n",
       "<style scoped>\n",
       "    .dataframe tbody tr th:only-of-type {\n",
       "        vertical-align: middle;\n",
       "    }\n",
       "\n",
       "    .dataframe tbody tr th {\n",
       "        vertical-align: top;\n",
       "    }\n",
       "\n",
       "    .dataframe thead th {\n",
       "        text-align: right;\n",
       "    }\n",
       "</style>\n",
       "<table border=\"1\" class=\"dataframe\">\n",
       "  <thead>\n",
       "    <tr style=\"text-align: right;\">\n",
       "      <th></th>\n",
       "      <th>PERMNO</th>\n",
       "      <th>date</th>\n",
       "      <th>TICKER</th>\n",
       "      <th>PRC</th>\n",
       "      <th>VOL</th>\n",
       "      <th>RET</th>\n",
       "      <th>SHROUT</th>\n",
       "      <th>NUMTRD</th>\n",
       "    </tr>\n",
       "  </thead>\n",
       "  <tbody>\n",
       "    <tr>\n",
       "      <th>0</th>\n",
       "      <td>22111</td>\n",
       "      <td>2019-01-02</td>\n",
       "      <td>JNJ</td>\n",
       "      <td>127.75000</td>\n",
       "      <td>7631672</td>\n",
       "      <td>-0.010074</td>\n",
       "      <td>2681978</td>\n",
       "      <td>NaN</td>\n",
       "    </tr>\n",
       "    <tr>\n",
       "      <th>1</th>\n",
       "      <td>27959</td>\n",
       "      <td>2019-01-02</td>\n",
       "      <td>DUK</td>\n",
       "      <td>84.70000</td>\n",
       "      <td>2857480</td>\n",
       "      <td>-0.018540</td>\n",
       "      <td>712878</td>\n",
       "      <td>NaN</td>\n",
       "    </tr>\n",
       "    <tr>\n",
       "      <th>2</th>\n",
       "      <td>84788</td>\n",
       "      <td>2019-01-02</td>\n",
       "      <td>AMZN</td>\n",
       "      <td>1539.13000</td>\n",
       "      <td>7981083</td>\n",
       "      <td>0.024741</td>\n",
       "      <td>488969</td>\n",
       "      <td>198679.0</td>\n",
       "    </tr>\n",
       "    <tr>\n",
       "      <th>3</th>\n",
       "      <td>89393</td>\n",
       "      <td>2019-01-02</td>\n",
       "      <td>NFLX</td>\n",
       "      <td>267.66000</td>\n",
       "      <td>11679228</td>\n",
       "      <td>0.000000</td>\n",
       "      <td>436599</td>\n",
       "      <td>128527.0</td>\n",
       "    </tr>\n",
       "    <tr>\n",
       "      <th>4</th>\n",
       "      <td>89525</td>\n",
       "      <td>2019-01-02</td>\n",
       "      <td>CMCSA</td>\n",
       "      <td>34.37000</td>\n",
       "      <td>16962867</td>\n",
       "      <td>0.009398</td>\n",
       "      <td>4516518</td>\n",
       "      <td>83569.0</td>\n",
       "    </tr>\n",
       "    <tr>\n",
       "      <th>...</th>\n",
       "      <td>...</td>\n",
       "      <td>...</td>\n",
       "      <td>...</td>\n",
       "      <td>...</td>\n",
       "      <td>...</td>\n",
       "      <td>...</td>\n",
       "      <td>...</td>\n",
       "      <td>...</td>\n",
       "    </tr>\n",
       "    <tr>\n",
       "      <th>7545</th>\n",
       "      <td>89393</td>\n",
       "      <td>2024-12-31</td>\n",
       "      <td>NFLX</td>\n",
       "      <td>891.32001</td>\n",
       "      <td>1859050</td>\n",
       "      <td>-0.010117</td>\n",
       "      <td>427458</td>\n",
       "      <td>63241.0</td>\n",
       "    </tr>\n",
       "    <tr>\n",
       "      <th>7546</th>\n",
       "      <td>27959</td>\n",
       "      <td>2024-12-31</td>\n",
       "      <td>DUK</td>\n",
       "      <td>107.74000</td>\n",
       "      <td>2987454</td>\n",
       "      <td>0.000279</td>\n",
       "      <td>772482</td>\n",
       "      <td>NaN</td>\n",
       "    </tr>\n",
       "    <tr>\n",
       "      <th>7547</th>\n",
       "      <td>22111</td>\n",
       "      <td>2024-12-31</td>\n",
       "      <td>JNJ</td>\n",
       "      <td>144.62000</td>\n",
       "      <td>5811401</td>\n",
       "      <td>0.008930</td>\n",
       "      <td>2407623</td>\n",
       "      <td>NaN</td>\n",
       "    </tr>\n",
       "    <tr>\n",
       "      <th>7548</th>\n",
       "      <td>84788</td>\n",
       "      <td>2024-12-31</td>\n",
       "      <td>AMZN</td>\n",
       "      <td>219.39000</td>\n",
       "      <td>24602351</td>\n",
       "      <td>-0.008631</td>\n",
       "      <td>10515011</td>\n",
       "      <td>309382.0</td>\n",
       "    </tr>\n",
       "    <tr>\n",
       "      <th>7549</th>\n",
       "      <td>89525</td>\n",
       "      <td>2024-12-31</td>\n",
       "      <td>CMCSA</td>\n",
       "      <td>37.53000</td>\n",
       "      <td>13624420</td>\n",
       "      <td>0.003744</td>\n",
       "      <td>3817096</td>\n",
       "      <td>79276.0</td>\n",
       "    </tr>\n",
       "  </tbody>\n",
       "</table>\n",
       "<p>7550 rows × 8 columns</p>\n",
       "</div>"
      ],
      "text/plain": [
       "      PERMNO       date TICKER         PRC       VOL       RET    SHROUT  \\\n",
       "0      22111 2019-01-02    JNJ   127.75000   7631672 -0.010074   2681978   \n",
       "1      27959 2019-01-02    DUK    84.70000   2857480 -0.018540    712878   \n",
       "2      84788 2019-01-02   AMZN  1539.13000   7981083  0.024741    488969   \n",
       "3      89393 2019-01-02   NFLX   267.66000  11679228  0.000000    436599   \n",
       "4      89525 2019-01-02  CMCSA    34.37000  16962867  0.009398   4516518   \n",
       "...      ...        ...    ...         ...       ...       ...       ...   \n",
       "7545   89393 2024-12-31   NFLX   891.32001   1859050 -0.010117    427458   \n",
       "7546   27959 2024-12-31    DUK   107.74000   2987454  0.000279    772482   \n",
       "7547   22111 2024-12-31    JNJ   144.62000   5811401  0.008930   2407623   \n",
       "7548   84788 2024-12-31   AMZN   219.39000  24602351 -0.008631  10515011   \n",
       "7549   89525 2024-12-31  CMCSA    37.53000  13624420  0.003744   3817096   \n",
       "\n",
       "        NUMTRD  \n",
       "0          NaN  \n",
       "1          NaN  \n",
       "2     198679.0  \n",
       "3     128527.0  \n",
       "4      83569.0  \n",
       "...        ...  \n",
       "7545   63241.0  \n",
       "7546       NaN  \n",
       "7547       NaN  \n",
       "7548  309382.0  \n",
       "7549   79276.0  \n",
       "\n",
       "[7550 rows x 8 columns]"
      ]
     },
     "execution_count": 161,
     "metadata": {},
     "output_type": "execute_result"
    }
   ],
   "source": [
    "df_big = pd.read_csv(\"crsp_data_2.csv\")\n",
    "df_big = clean_data(df_big)\n",
    "df_big = df_big.sort_values(\"date\").reset_index(drop=True)\n",
    "\n",
    "df_big"
   ]
  },
  {
   "cell_type": "code",
   "execution_count": 162,
   "id": "7b1d9f6c",
   "metadata": {},
   "outputs": [],
   "source": [
    "nflx_amzn = df_big[(df_big[\"TICKER\"] == \"NFLX\") | (df_big[\"TICKER\"] == \"AMZN\")]\n",
    "\n",
    "lookback_days = 50           \n",
    "window_length = 50           \n",
    "forecast_horizon = 5        \n",
    "smoothing_window = 5       \n",
    "alpha_scale = 0.5         \n",
    "beta = 0.1                \n",
    "w = 1                      \n",
    "penalty = 0.01             \n",
    "\n",
    "start_index = 50\n",
    "opt_start_date = nflx_amzn[\"date\"].iloc[start_index]"
   ]
  },
  {
   "cell_type": "code",
   "execution_count": 163,
   "id": "40bc07ed",
   "metadata": {},
   "outputs": [
    {
     "name": "stdout",
     "output_type": "stream",
     "text": [
      "Tickers used for calibration: ['AMZN', 'NFLX']\n"
     ]
    }
   ],
   "source": [
    "# Compute historical covariance\n",
    "cov_matrix, corr_matrix, tickers_used = compute_historical_covariance(nflx_amzn, opt_start_date, lookback_days)\n",
    "print(\"Tickers used for calibration:\", tickers_used)"
   ]
  },
  {
   "cell_type": "code",
   "execution_count": 164,
   "id": "fd58efc8",
   "metadata": {},
   "outputs": [
    {
     "data": {
      "text/plain": [
       "array([[0.00065065, 0.00051737],\n",
       "       [0.00051737, 0.00101802]])"
      ]
     },
     "execution_count": 164,
     "metadata": {},
     "output_type": "execute_result"
    }
   ],
   "source": [
    "cov_matrix"
   ]
  },
  {
   "cell_type": "code",
   "execution_count": 165,
   "id": "3622c7f4",
   "metadata": {},
   "outputs": [
    {
     "data": {
      "text/plain": [
       "array([[1.        , 0.63569888],\n",
       "       [0.63569888, 1.        ]])"
      ]
     },
     "execution_count": 165,
     "metadata": {},
     "output_type": "execute_result"
    }
   ],
   "source": [
    "corr_matrix"
   ]
  },
  {
   "cell_type": "code",
   "execution_count": 166,
   "id": "c90fa0ba",
   "metadata": {},
   "outputs": [
    {
     "name": "stdout",
     "output_type": "stream",
     "text": [
      "Calibrated τ: [0.77098301 0.31974844]\n",
      "Calibrated γ0: [0. 0.]\n",
      "Calibrated γT: [0.00255078 0.00319064]\n"
     ]
    }
   ],
   "source": [
    "# Calibrate stock‑specific parameters τ and γ for each ticker\n",
    "tau_vec, gamma0_vec, gammaT_vec = calibrate_parameters(nflx_amzn, tickers_used, opt_start_date, lookback_days, c_tau=10, gamma0_default=0.0, c_gamma=0.1)\n",
    "print(\"Calibrated τ:\", tau_vec)\n",
    "print(\"Calibrated γ0:\", gamma0_vec)\n",
    "print(\"Calibrated γT:\", gammaT_vec)"
   ]
  },
  {
   "cell_type": "code",
   "execution_count": 167,
   "id": "4534cd56",
   "metadata": {},
   "outputs": [],
   "source": [
    "# Create the optimization dataframe using index slicing.\n",
    "df_opt = create_optimization_dataframe_from_index(nflx_amzn, tickers_used, start_index, window_length)"
   ]
  },
  {
   "cell_type": "code",
   "execution_count": 168,
   "id": "59926593",
   "metadata": {},
   "outputs": [
    {
     "name": "stdout",
     "output_type": "stream",
     "text": [
      "===============================================================================\n",
      "                                     CVXPY                                     \n",
      "                                     v1.3.2                                    \n",
      "===============================================================================\n",
      "(CVXPY) Apr 03 06:49:59 PM: Your problem has 102 variables, 1 constraints, and 0 parameters.\n",
      "(CVXPY) Apr 03 06:49:59 PM: It is compliant with the following grammars: DCP, DQCP\n",
      "(CVXPY) Apr 03 06:49:59 PM: (If you need to solve this problem multiple times, but with different data, consider using parameters.)\n",
      "(CVXPY) Apr 03 06:49:59 PM: CVXPY will first compile your problem; then, it will invoke a numerical solver to obtain a solution.\n",
      "-------------------------------------------------------------------------------\n",
      "                                  Compilation                                  \n",
      "-------------------------------------------------------------------------------\n",
      "(CVXPY) Apr 03 06:49:59 PM: Compiling problem (target solver=SCS).\n",
      "(CVXPY) Apr 03 06:49:59 PM: Reduction chain: FlipObjective -> Dcp2Cone -> CvxAttr2Constr -> ConeMatrixStuffing -> SCS\n",
      "(CVXPY) Apr 03 06:49:59 PM: Applying reduction FlipObjective\n",
      "(CVXPY) Apr 03 06:49:59 PM: Applying reduction Dcp2Cone\n",
      "(CVXPY) Apr 03 06:49:59 PM: Applying reduction CvxAttr2Constr\n",
      "(CVXPY) Apr 03 06:49:59 PM: Applying reduction ConeMatrixStuffing\n",
      "(CVXPY) Apr 03 06:49:59 PM: Applying reduction SCS\n",
      "(CVXPY) Apr 03 06:49:59 PM: Finished problem compilation (took 1.687e-01 seconds).\n",
      "-------------------------------------------------------------------------------\n",
      "                                Numerical solver                               \n",
      "-------------------------------------------------------------------------------\n",
      "(CVXPY) Apr 03 06:49:59 PM: Invoking solver SCS  to obtain a solution.\n",
      "------------------------------------------------------------------\n",
      "\t       SCS v3.2.3 - Splitting Conic Solver\n",
      "\t(c) Brendan O'Donoghue, Stanford University, 2012\n",
      "------------------------------------------------------------------\n",
      "problem:  variables n: 206, constraints m: 106\n",
      "cones: \t  z: primal zero / dual free vars: 106\n",
      "settings: eps_abs: 1.0e-05, eps_rel: 1.0e-05, eps_infeas: 1.0e-07\n",
      "\t  alpha: 1.50, scale: 1.00e-01, adaptive_scale: 1\n",
      "\t  max_iters: 100000, normalize: 1, rho_x: 1.00e-06\n",
      "\t  acceleration_lookback: 10, acceleration_interval: 10\n",
      "lin-sys:  sparse-direct-amd-qdldl\n",
      "\t  nnz(A): 310, nnz(P): 155\n",
      "------------------------------------------------------------------\n",
      " iter | pri res | dua res |   gap   |   obj   |  scale  | time (s)\n",
      "------------------------------------------------------------------\n",
      "     0| 5.05e-04  2.30e-02  6.79e-01 -3.40e-01  1.00e-01  2.50e-03 \n",
      "    25| 3.99e-10  6.03e-10  8.25e-09 -1.70e-01  1.00e-01  3.48e-03 \n",
      "------------------------------------------------------------------\n",
      "status:  solved\n",
      "timings: total: 3.49e-03s = setup: 1.54e-03s + solve: 1.95e-03s\n",
      "\t lin-sys: 1.27e-04s, cones: 7.00e-06s, accel: 3.22e-05s\n",
      "------------------------------------------------------------------\n",
      "objective = -0.170477\n",
      "------------------------------------------------------------------\n",
      "-------------------------------------------------------------------------------\n",
      "                                    Summary                                    \n",
      "-------------------------------------------------------------------------------\n",
      "(CVXPY) Apr 03 06:49:59 PM: Problem status: optimal\n",
      "(CVXPY) Apr 03 06:49:59 PM: Optimal value: 1.705e-01\n",
      "(CVXPY) Apr 03 06:49:59 PM: Compilation took 1.687e-01 seconds\n",
      "(CVXPY) Apr 03 06:49:59 PM: Solver (including time spent in interface) took 5.903e-03 seconds\n",
      "Optimal value: 0.17047735254329077\n"
     ]
    }
   ],
   "source": [
    "# Set initial conditions and target positions.\n",
    "m = len(tickers_used)\n",
    "Q_target = np.full(m, 100.0)\n",
    "Q0 = np.zeros(m)\n",
    "J0 = np.zeros(m)\n",
    "\n",
    "# Run the multi-stock optimization.\n",
    "df_window_opt1, J_opt1, Q_history1, alpha, gamma, lam = multi_stock_opt_custom(\n",
    "    df_opt, start_index=0,  \n",
    "    window_length=window_length,\n",
    "    forecast_horizon=forecast_horizon,\n",
    "    smoothing_window=smoothing_window,\n",
    "    alpha_scale=alpha_scale,\n",
    "    beta=beta,\n",
    "    tau_vec=tau_vec,\n",
    "    w=1,\n",
    "    penalty=0.1,\n",
    "    Q_target=Q_target,\n",
    "    Q0=[100, 100],\n",
    "    J0=J0,\n",
    "    gamma0_vec=gamma0_vec,\n",
    "    gammaT_vec=gammaT_vec,\n",
    "    cov_matrix=cov_matrix\n",
    ")"
   ]
  },
  {
   "cell_type": "code",
   "execution_count": 169,
   "id": "5c8985a1",
   "metadata": {},
   "outputs": [
    {
     "data": {
      "image/png": "[encoded data removed]",
      "text/plain": [
       "<Figure size 720x360 with 1 Axes>"
      ]
     },
     "metadata": {
      "needs_background": "light"
     },
     "output_type": "display_data"
    }
   ],
   "source": [
    "# Plot the final portfolio positions for each stock over time.\n",
    "plt.figure(figsize=(10, 5))\n",
    "dates = df_window_opt1[\"date\"].to_numpy()\n",
    "Q_history1 = np.asarray(Q_history1, dtype=float)\n",
    "for j in range(m):\n",
    "    plt.plot(dates, Q_history1[:, j], label=f\"{tickers_used[j]}\")\n",
    "plt.xlabel(\"Date\")\n",
    "plt.ylabel(\"Position Q\")\n",
    "plt.title(\"Optimized Trade Schedule (Q_history) for Each Stock\")\n",
    "plt.legend()\n",
    "plt.grid(True)\n",
    "plt.show()"
   ]
  },
  {
   "cell_type": "markdown",
   "id": "fca99807",
   "metadata": {},
   "source": [
    "## NFLX and JNJ"
   ]
  },
  {
   "cell_type": "code",
   "execution_count": 170,
   "id": "6435cebb",
   "metadata": {},
   "outputs": [
    {
     "data": {
      "text/html": [
       "<div>\n",
       "<style scoped>\n",
       "    .dataframe tbody tr th:only-of-type {\n",
       "        vertical-align: middle;\n",
       "    }\n",
       "\n",
       "    .dataframe tbody tr th {\n",
       "        vertical-align: top;\n",
       "    }\n",
       "\n",
       "    .dataframe thead th {\n",
       "        text-align: right;\n",
       "    }\n",
       "</style>\n",
       "<table border=\"1\" class=\"dataframe\">\n",
       "  <thead>\n",
       "    <tr style=\"text-align: right;\">\n",
       "      <th></th>\n",
       "      <th>PERMNO</th>\n",
       "      <th>date</th>\n",
       "      <th>TICKER</th>\n",
       "      <th>PRC</th>\n",
       "      <th>VOL</th>\n",
       "      <th>RET</th>\n",
       "      <th>SHROUT</th>\n",
       "      <th>NUMTRD</th>\n",
       "    </tr>\n",
       "  </thead>\n",
       "  <tbody>\n",
       "    <tr>\n",
       "      <th>0</th>\n",
       "      <td>22111</td>\n",
       "      <td>2019-01-02</td>\n",
       "      <td>JNJ</td>\n",
       "      <td>127.75000</td>\n",
       "      <td>7631672</td>\n",
       "      <td>-0.010074</td>\n",
       "      <td>2681978</td>\n",
       "      <td>NaN</td>\n",
       "    </tr>\n",
       "    <tr>\n",
       "      <th>3</th>\n",
       "      <td>89393</td>\n",
       "      <td>2019-01-02</td>\n",
       "      <td>NFLX</td>\n",
       "      <td>267.66000</td>\n",
       "      <td>11679228</td>\n",
       "      <td>0.000000</td>\n",
       "      <td>436599</td>\n",
       "      <td>128527.0</td>\n",
       "    </tr>\n",
       "    <tr>\n",
       "      <th>6</th>\n",
       "      <td>89393</td>\n",
       "      <td>2019-01-03</td>\n",
       "      <td>NFLX</td>\n",
       "      <td>271.20001</td>\n",
       "      <td>14969547</td>\n",
       "      <td>0.013226</td>\n",
       "      <td>436599</td>\n",
       "      <td>142265.0</td>\n",
       "    </tr>\n",
       "    <tr>\n",
       "      <th>8</th>\n",
       "      <td>22111</td>\n",
       "      <td>2019-01-03</td>\n",
       "      <td>JNJ</td>\n",
       "      <td>125.72000</td>\n",
       "      <td>8654685</td>\n",
       "      <td>-0.015890</td>\n",
       "      <td>2681978</td>\n",
       "      <td>NaN</td>\n",
       "    </tr>\n",
       "    <tr>\n",
       "      <th>10</th>\n",
       "      <td>89393</td>\n",
       "      <td>2019-01-04</td>\n",
       "      <td>NFLX</td>\n",
       "      <td>297.57001</td>\n",
       "      <td>19329677</td>\n",
       "      <td>0.097234</td>\n",
       "      <td>436599</td>\n",
       "      <td>197495.0</td>\n",
       "    </tr>\n",
       "    <tr>\n",
       "      <th>...</th>\n",
       "      <td>...</td>\n",
       "      <td>...</td>\n",
       "      <td>...</td>\n",
       "      <td>...</td>\n",
       "      <td>...</td>\n",
       "      <td>...</td>\n",
       "      <td>...</td>\n",
       "      <td>...</td>\n",
       "    </tr>\n",
       "    <tr>\n",
       "      <th>7538</th>\n",
       "      <td>22111</td>\n",
       "      <td>2024-12-27</td>\n",
       "      <td>JNJ</td>\n",
       "      <td>145.05000</td>\n",
       "      <td>5588306</td>\n",
       "      <td>-0.003641</td>\n",
       "      <td>2407623</td>\n",
       "      <td>NaN</td>\n",
       "    </tr>\n",
       "    <tr>\n",
       "      <th>7541</th>\n",
       "      <td>89393</td>\n",
       "      <td>2024-12-30</td>\n",
       "      <td>NFLX</td>\n",
       "      <td>900.42999</td>\n",
       "      <td>2184055</td>\n",
       "      <td>-0.007845</td>\n",
       "      <td>427458</td>\n",
       "      <td>84238.0</td>\n",
       "    </tr>\n",
       "    <tr>\n",
       "      <th>7544</th>\n",
       "      <td>22111</td>\n",
       "      <td>2024-12-30</td>\n",
       "      <td>JNJ</td>\n",
       "      <td>143.34000</td>\n",
       "      <td>6268692</td>\n",
       "      <td>-0.011789</td>\n",
       "      <td>2407623</td>\n",
       "      <td>NaN</td>\n",
       "    </tr>\n",
       "    <tr>\n",
       "      <th>7545</th>\n",
       "      <td>89393</td>\n",
       "      <td>2024-12-31</td>\n",
       "      <td>NFLX</td>\n",
       "      <td>891.32001</td>\n",
       "      <td>1859050</td>\n",
       "      <td>-0.010117</td>\n",
       "      <td>427458</td>\n",
       "      <td>63241.0</td>\n",
       "    </tr>\n",
       "    <tr>\n",
       "      <th>7547</th>\n",
       "      <td>22111</td>\n",
       "      <td>2024-12-31</td>\n",
       "      <td>JNJ</td>\n",
       "      <td>144.62000</td>\n",
       "      <td>5811401</td>\n",
       "      <td>0.008930</td>\n",
       "      <td>2407623</td>\n",
       "      <td>NaN</td>\n",
       "    </tr>\n",
       "  </tbody>\n",
       "</table>\n",
       "<p>3020 rows × 8 columns</p>\n",
       "</div>"
      ],
      "text/plain": [
       "      PERMNO       date TICKER        PRC       VOL       RET   SHROUT  \\\n",
       "0      22111 2019-01-02    JNJ  127.75000   7631672 -0.010074  2681978   \n",
       "3      89393 2019-01-02   NFLX  267.66000  11679228  0.000000   436599   \n",
       "6      89393 2019-01-03   NFLX  271.20001  14969547  0.013226   436599   \n",
       "8      22111 2019-01-03    JNJ  125.72000   8654685 -0.015890  2681978   \n",
       "10     89393 2019-01-04   NFLX  297.57001  19329677  0.097234   436599   \n",
       "...      ...        ...    ...        ...       ...       ...      ...   \n",
       "7538   22111 2024-12-27    JNJ  145.05000   5588306 -0.003641  2407623   \n",
       "7541   89393 2024-12-30   NFLX  900.42999   2184055 -0.007845   427458   \n",
       "7544   22111 2024-12-30    JNJ  143.34000   6268692 -0.011789  2407623   \n",
       "7545   89393 2024-12-31   NFLX  891.32001   1859050 -0.010117   427458   \n",
       "7547   22111 2024-12-31    JNJ  144.62000   5811401  0.008930  2407623   \n",
       "\n",
       "        NUMTRD  \n",
       "0          NaN  \n",
       "3     128527.0  \n",
       "6     142265.0  \n",
       "8          NaN  \n",
       "10    197495.0  \n",
       "...        ...  \n",
       "7538       NaN  \n",
       "7541   84238.0  \n",
       "7544       NaN  \n",
       "7545   63241.0  \n",
       "7547       NaN  \n",
       "\n",
       "[3020 rows x 8 columns]"
      ]
     },
     "execution_count": 170,
     "metadata": {},
     "output_type": "execute_result"
    }
   ],
   "source": [
    "df_big = pd.read_csv(\"crsp_data_2.csv\")\n",
    "df_big = clean_data(df_big)\n",
    "df_big = df_big.sort_values(\"date\").reset_index(drop=True)\n",
    "\n",
    "nflx_jnj = df_big[(df_big[\"TICKER\"] == \"NFLX\") | (df_big[\"TICKER\"] == \"JNJ\")]\n",
    "\n",
    "nflx_jnj"
   ]
  },
  {
   "cell_type": "code",
   "execution_count": 171,
   "id": "aa9333d3",
   "metadata": {},
   "outputs": [],
   "source": [
    "lookback_days = 50        \n",
    "window_length = 50          \n",
    "forecast_horizon = 5        \n",
    "smoothing_window = 5  \n",
    "alpha_scale = 0.5         \n",
    "beta = 0.1                   \n",
    "w = 1                      \n",
    "penalty = 0.01            \n",
    "\n",
    "start_index = 50\n",
    "\n",
    "opt_start_date = nflx_jnj[\"date\"].iloc[start_index]"
   ]
  },
  {
   "cell_type": "code",
   "execution_count": 172,
   "id": "cd22a384",
   "metadata": {},
   "outputs": [
    {
     "name": "stdout",
     "output_type": "stream",
     "text": [
      "Tickers used for calibration: ['JNJ', 'NFLX']\n"
     ]
    }
   ],
   "source": [
    "# Compute historical covariance using returns\n",
    "cov_matrix, corr_matrix, tickers_used = compute_historical_covariance(nflx_jnj, opt_start_date, lookback_days)\n",
    "print(\"Tickers used for calibration:\", tickers_used)"
   ]
  },
  {
   "cell_type": "code",
   "execution_count": 173,
   "id": "054b13e4",
   "metadata": {},
   "outputs": [
    {
     "data": {
      "text/plain": [
       "array([[1.17480114e-04, 8.14428015e-05],\n",
       "       [8.14428015e-05, 1.01801888e-03]])"
      ]
     },
     "execution_count": 173,
     "metadata": {},
     "output_type": "execute_result"
    }
   ],
   "source": [
    "cov_matrix"
   ]
  },
  {
   "cell_type": "code",
   "execution_count": 174,
   "id": "1bb76778",
   "metadata": {},
   "outputs": [
    {
     "data": {
      "text/plain": [
       "array([[1.        , 0.23550092],\n",
       "       [0.23550092, 1.        ]])"
      ]
     },
     "execution_count": 174,
     "metadata": {},
     "output_type": "execute_result"
    }
   ],
   "source": [
    "corr_matrix"
   ]
  },
  {
   "cell_type": "code",
   "execution_count": 175,
   "id": "2188a48c",
   "metadata": {},
   "outputs": [
    {
     "name": "stdout",
     "output_type": "stream",
     "text": [
      "Calibrated τ: [3.29883756 0.31974844]\n",
      "Calibrated γ0: [0. 0.]\n",
      "Calibrated γT: [0.00108388 0.00319064]\n"
     ]
    }
   ],
   "source": [
    "# Calibrate stock‑specific parameters τ and γ for each ticker\n",
    "tau_vec, gamma0_vec, gammaT_vec = calibrate_parameters(nflx_jnj, tickers_used, opt_start_date, lookback_days, c_tau=10, gamma0_default=0.0, c_gamma=0.1)\n",
    "print(\"Calibrated τ:\", tau_vec)\n",
    "print(\"Calibrated γ0:\", gamma0_vec)\n",
    "print(\"Calibrated γT:\", gammaT_vec)"
   ]
  },
  {
   "cell_type": "code",
   "execution_count": 176,
   "id": "a4de3b3d",
   "metadata": {},
   "outputs": [],
   "source": [
    "# Create the optimization dataframe using index slicing.\n",
    "df_opt = create_optimization_dataframe_from_index(nflx_jnj, tickers_used, start_index, window_length)"
   ]
  },
  {
   "cell_type": "code",
   "execution_count": 177,
   "id": "70d5e0f3",
   "metadata": {},
   "outputs": [
    {
     "name": "stdout",
     "output_type": "stream",
     "text": [
      "===============================================================================\n",
      "                                     CVXPY                                     \n",
      "                                     v1.3.2                                    \n",
      "===============================================================================\n",
      "(CVXPY) Apr 03 06:50:04 PM: Your problem has 102 variables, 1 constraints, and 0 parameters.\n",
      "(CVXPY) Apr 03 06:50:04 PM: It is compliant with the following grammars: DCP, DQCP\n",
      "(CVXPY) Apr 03 06:50:04 PM: (If you need to solve this problem multiple times, but with different data, consider using parameters.)\n",
      "(CVXPY) Apr 03 06:50:04 PM: CVXPY will first compile your problem; then, it will invoke a numerical solver to obtain a solution.\n",
      "-------------------------------------------------------------------------------\n",
      "                                  Compilation                                  \n",
      "-------------------------------------------------------------------------------\n",
      "(CVXPY) Apr 03 06:50:04 PM: Compiling problem (target solver=SCS).\n",
      "(CVXPY) Apr 03 06:50:04 PM: Reduction chain: FlipObjective -> Dcp2Cone -> CvxAttr2Constr -> ConeMatrixStuffing -> SCS\n",
      "(CVXPY) Apr 03 06:50:04 PM: Applying reduction FlipObjective\n",
      "(CVXPY) Apr 03 06:50:04 PM: Applying reduction Dcp2Cone\n",
      "(CVXPY) Apr 03 06:50:04 PM: Applying reduction CvxAttr2Constr\n",
      "(CVXPY) Apr 03 06:50:04 PM: Applying reduction ConeMatrixStuffing\n",
      "(CVXPY) Apr 03 06:50:04 PM: Applying reduction SCS\n",
      "(CVXPY) Apr 03 06:50:04 PM: Finished problem compilation (took 1.439e-01 seconds).\n",
      "-------------------------------------------------------------------------------\n",
      "                                Numerical solver                               \n",
      "-------------------------------------------------------------------------------\n",
      "(CVXPY) Apr 03 06:50:04 PM: Invoking solver SCS  to obtain a solution.\n",
      "------------------------------------------------------------------\n",
      "\t       SCS v3.2.3 - Splitting Conic Solver\n",
      "\t(c) Brendan O'Donoghue, Stanford University, 2012\n",
      "------------------------------------------------------------------\n",
      "problem:  variables n: 206, constraints m: 106\n",
      "cones: \t  z: primal zero / dual free vars: 106\n",
      "settings: eps_abs: 1.0e-05, eps_rel: 1.0e-05, eps_infeas: 1.0e-07\n",
      "\t  alpha: 1.50, scale: 1.00e-01, adaptive_scale: 1\n",
      "\t  max_iters: 100000, normalize: 1, rho_x: 1.00e-06\n",
      "\t  acceleration_lookback: 10, acceleration_interval: 10\n",
      "lin-sys:  sparse-direct-amd-qdldl\n",
      "\t  nnz(A): 308, nnz(P): 155\n",
      "------------------------------------------------------------------\n",
      " iter | pri res | dua res |   gap   |   obj   |  scale  | time (s)\n",
      "------------------------------------------------------------------\n",
      "     0| 1.99e-04  7.36e-03  9.56e-01 -4.86e-01  1.00e-01  3.78e-03 \n",
      "    25| 2.74e-11  1.51e-10  9.38e-09 -2.45e-01  1.00e-01  4.90e-03 \n",
      "------------------------------------------------------------------\n",
      "status:  solved\n",
      "timings: total: 4.92e-03s = setup: 2.02e-03s + solve: 2.89e-03s\n",
      "\t lin-sys: 1.31e-04s, cones: 8.87e-06s, accel: 3.33e-05s\n",
      "------------------------------------------------------------------\n",
      "objective = -0.244907\n",
      "------------------------------------------------------------------\n",
      "-------------------------------------------------------------------------------\n",
      "                                    Summary                                    \n",
      "-------------------------------------------------------------------------------\n",
      "(CVXPY) Apr 03 06:50:04 PM: Problem status: optimal\n",
      "(CVXPY) Apr 03 06:50:04 PM: Optimal value: 2.449e-01\n",
      "(CVXPY) Apr 03 06:50:04 PM: Compilation took 1.439e-01 seconds\n",
      "(CVXPY) Apr 03 06:50:04 PM: Solver (including time spent in interface) took 8.381e-03 seconds\n",
      "Optimal value: 0.24490695648200422\n"
     ]
    }
   ],
   "source": [
    "# Set initial conditions and target positions.\n",
    "m = len(tickers_used)\n",
    "Q_target = np.full(m, 100.0) \n",
    "Q0 = np.zeros(m)\n",
    "J0 = np.zeros(m)\n",
    "\n",
    "# Run the multi-stock optimization.\n",
    "df_window_opt2, J_opt2, Q_history2, alpha, gamma, lam = multi_stock_opt_custom(\n",
    "    df_opt, start_index=0, \n",
    "    window_length=window_length,\n",
    "    forecast_horizon=forecast_horizon,\n",
    "    smoothing_window=smoothing_window,\n",
    "    alpha_scale=alpha_scale,\n",
    "    beta=beta,\n",
    "    tau_vec=[1, 1],\n",
    "    w=1,\n",
    "    penalty=0.1,\n",
    "    Q_target=Q_target,\n",
    "    Q0=[100, 100],\n",
    "    J0=J0,\n",
    "    gamma0_vec=gamma0_vec,\n",
    "    gammaT_vec=gammaT_vec,\n",
    "    cov_matrix=cov_matrix\n",
    ")"
   ]
  },
  {
   "cell_type": "code",
   "execution_count": 178,
   "id": "c8abf96e",
   "metadata": {},
   "outputs": [
    {
     "data": {
      "image/png": "[encoded data removed]",
      "text/plain": [
       "<Figure size 720x360 with 1 Axes>"
      ]
     },
     "metadata": {
      "needs_background": "light"
     },
     "output_type": "display_data"
    }
   ],
   "source": [
    "# Plot the final portfolio positions for each stock over time.\n",
    "plt.figure(figsize=(10, 5))\n",
    "dates = df_window_opt2[\"date\"].to_numpy()\n",
    "Q_history2 = np.asarray(Q_history2, dtype=float)\n",
    "for j in range(m):\n",
    "    plt.plot(dates, Q_history2[:, j], label=f\"{tickers_used[j]}\")\n",
    "plt.xlabel(\"Date\")\n",
    "plt.ylabel(\"Position Q\")\n",
    "plt.title(\"Optimized Trade Schedule (Q_history) for Each Stock\")\n",
    "plt.legend()\n",
    "plt.grid(True)\n",
    "plt.show()"
   ]
  },
  {
   "cell_type": "markdown",
   "id": "a73ff527",
   "metadata": {},
   "source": [
    "## NFLX Trajectories Overlaid"
   ]
  },
  {
   "cell_type": "code",
   "execution_count": 179,
   "id": "8bcb0205",
   "metadata": {},
   "outputs": [
    {
     "data": {
      "image/png": "[encoded data removed]",
      "text/plain": [
       "<Figure size 720x360 with 1 Axes>"
      ]
     },
     "metadata": {
      "needs_background": "light"
     },
     "output_type": "display_data"
    }
   ],
   "source": [
    "plt.figure(figsize=(10, 5))\n",
    "plt.plot(dates, Q_history1[:, 1], label=\"NFLX w/ AMZN\")\n",
    "plt.plot(dates, Q_history2[:, 1], label=\"NFLX w/ JNJ\")\n",
    "plt.xlabel(\"Date\")\n",
    "plt.ylabel(\"Position Q\")\n",
    "plt.title(\"Optimized Trade Schedule (Q_history) for NFLX in Different Portfolios\")\n",
    "plt.legend()\n",
    "plt.grid(True)\n",
    "plt.show()"
   ]
  },
  {
   "cell_type": "code",
   "execution_count": 180,
   "id": "48652173",
   "metadata": {
    "scrolled": true
   },
   "outputs": [
    {
     "data": {
      "image/png": "[encoded data removed]",
      "text/plain": [
       "<Figure size 720x360 with 1 Axes>"
      ]
     },
     "metadata": {
      "needs_background": "light"
     },
     "output_type": "display_data"
    }
   ],
   "source": [
    "plt.figure(figsize=(10, 5))\n",
    "plt.plot(dates, np.array(df_window_opt2.loc[:, \"PRC_NFLX\"]))\n",
    "plt.xlabel(\"Date\")\n",
    "plt.ylabel(\"Price\")\n",
    "plt.title(\"NFLX Stock Price over Optimization Window\")\n",
    "plt.grid(True)\n",
    "plt.show()"
   ]
  }
 ],
 "metadata": {
  "kernelspec": {
   "display_name": "Python 3 (ipykernel)",
   "language": "python",
   "name": "python3"
  },
  "language_info": {
   "codemirror_mode": {
    "name": "ipython",
    "version": 3
   },
   "file_extension": ".py",
   "mimetype": "text/x-python",
   "name": "python",
   "nbconvert_exporter": "python",
   "pygments_lexer": "ipython3",
   "version": "3.9.12"
  }
 },
 "nbformat": 4,
 "nbformat_minor": 5
}
